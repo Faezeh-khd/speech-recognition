{
  "cells": [
    {
      "cell_type": "code",
      "execution_count": null,
      "metadata": {
        "id": "a4U3M0Pf-YfG"
      },
      "outputs": [],
      "source": [
        "!pip install --upgrade google-cloud-speech"
      ]
    },
    {
      "cell_type": "code",
      "execution_count": 2,
      "metadata": {
        "id": "PkwwG8IjFrZV"
      },
      "outputs": [],
      "source": [
        "import os\n",
        "import io\n",
        "from google.cloud import speech"
      ]
    },
    {
      "cell_type": "code",
      "execution_count": 5,
      "metadata": {
        "id": "3_s18o-x-taP"
      },
      "outputs": [],
      "source": [
        "# Variable\n",
        "os.environ[\"GOOGLE_APPLICATION_CREDENTIALS\"] = \"project_credentials.json\""
      ]
    },
    {
      "cell_type": "code",
      "execution_count": null,
      "metadata": {
        "id": "5FNCEgo-_qRj"
      },
      "outputs": [],
      "source": [
        "!echo $GOOGLE_APPLICATION_CREDENTIALS"
      ]
    },
    {
      "cell_type": "code",
      "execution_count": 11,
      "metadata": {
        "id": "Zgy4wN8Lykyn"
      },
      "outputs": [],
      "source": [
        "# Generate Text\n",
        "\n",
        "def generate_text(input_file):\n",
        "\n",
        "    client = speech.SpeechClient()\n",
        "    file_name = (input_file)\n",
        "\n",
        "    with io.open(file_name, \"rb\") as audio_file:\n",
        "        content = audio_file.read()\n",
        "        audio = speech.RecognitionAudio(content=content)\n",
        "\n",
        "    config = speech.RecognitionConfig(\n",
        "        encoding=speech.RecognitionConfig.AudioEncoding.LINEAR16,\n",
        "        language_code=\"en-US\",\n",
        "        )\n",
        "\n",
        "    response = client.recognize(request={\"config\": config, \"audio\": audio}) \n",
        "\n",
        "\n",
        "    for result in response.results:\n",
        "        print(\"Text to Speech Output : {}\".format(result.alternatives[0].transcript))\n",
        "    return 1"
      ]
    },
    {
      "cell_type": "code",
      "execution_count": null,
      "metadata": {
        "colab": {
          "base_uri": "https://localhost:8080/"
        },
        "id": "dLASa7oh_CF7",
        "outputId": "e06feb9d-7b42-4e04-c719-ea2efb59300a"
      },
      "outputs": [],
      "source": [
        "for file in os.listdir():\n",
        "    if file.endswith(\".wav\"):\n",
        "        generate_text(file)"
      ]
    }
  ],
  "metadata": {
    "colab": {
      "provenance": []
    },
    "kernelspec": {
      "display_name": "Python 3",
      "name": "python3"
    },
    "language_info": {
      "codemirror_mode": {
        "name": "ipython",
        "version": 3
      },
      "file_extension": ".py",
      "mimetype": "text/x-python",
      "name": "python",
      "nbconvert_exporter": "python",
      "pygments_lexer": "ipython3",
      "version": "3.12.3"
    }
  },
  "nbformat": 4,
  "nbformat_minor": 0
}
