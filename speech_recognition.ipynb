{
  "cells": [
    {
      "cell_type": "code",
      "execution_count": null,
      "metadata": {
        "id": "EWpSKY9i0ShD"
      },
      "outputs": [],
      "source": [
        "#import library\n",
        "import speech_recognition as sr\n",
        "\n",
        "# Initialize recognizer class (for recognizing the speech)\n",
        "r = sr.Recognizer()\n",
        "\n",
        "# Reading Audio file as source\n",
        "# listening the audio file and store in audio_text variable\n",
        "\n",
        "with sr.AudioFile('audio.wav') as source:\n",
        "\n",
        "    audio_text = r.listen(source)\n",
        "\n",
        "# recoginize_() method will throw a request error if the API is unreachable, hence using exception handling\n",
        "    try:\n",
        "\n",
        "        # using google speech recognition\n",
        "        text = r.recognize_google(audio_text , language = \"fa-FA\")\n",
        "        print('Converting audio transcripts into text ...')\n",
        "        print(text)\n",
        "\n",
        "    except:\n",
        "         print('Sorry.. run again...')\n"
      ]
    },
    {
      "cell_type": "code",
      "execution_count": null,
      "metadata": {
        "id": "gQCfHK5r0ShF",
        "outputId": "17731d41-f1c5-49b5-8ec6-721d249eb75a"
      },
      "outputs": [],
      "source": [
        "#import library\n",
        "\n",
        "import speech_recognition as sr\n",
        "\n",
        "# Initialize recognizer class (for recognizing the speech)\n",
        "\n",
        "r = sr.Recognizer()\n",
        "\n",
        "# Reading Microphone as source\n",
        "# listening the speech and store in audio_text variable\n",
        "\n",
        "with sr.Microphone() as source:\n",
        "    print(\"Talk\")\n",
        "    audio_text = r.listen(source)\n",
        "    print(\"Time over, thanks\")\n",
        "# recoginize_() method will throw a request error if the API is unreachable, hence using exception handling\n",
        "\n",
        "    try:\n",
        "        # using google speech recognition\n",
        "        print(\"Text: \"+r.recognize_google(audio_text, language = \"fa-FA\"))\n",
        "    except:\n",
        "         print(\"Sorry, I did not get that\")"
      ]
    },
    {
      "cell_type": "code",
      "execution_count": null,
      "metadata": {
        "id": "YGQNHVxD0ShH",
        "outputId": "3a40eb18-4eac-41b4-d950-c4b6336389a6"
      },
      "outputs": [],
      "source": [
        "# Noisy audio\n",
        "\n",
        "import speech_recognition as sr\n",
        "\n",
        "recognizer = sr.Recognizer()\n",
        "\n",
        "# Import audio file with background nosie\n",
        "noisy_support_call = sr.AudioFile('NoisyAudio.wav')\n",
        "with noisy_support_call as source:\n",
        "# Adjust for ambient noise and record\n",
        "    recognizer.adjust_for_ambient_noise(source,\n",
        "    duration=0.5)\n",
        "    noisy_support_call_audio = recognizer.record(source)\n",
        "# Recognize the audio\n",
        "recognizer.recognize_google(noisy_support_call_audio, language = \"fa-FA\")"
      ]
    },
    {
      "cell_type": "code",
      "execution_count": null,
      "metadata": {
        "id": "gV0vGkQQ0ShH",
        "outputId": "1d4fb9c5-51f9-4c4e-de44-9929eeb9a090"
      },
      "outputs": [],
      "source": [
        "# multiple speakers\n",
        "import speech_recognition as sr\n",
        "\n",
        "recognizer = sr.Recognizer()\n",
        "\n",
        "# Import an audio file with multiple speakers\n",
        "multiple_speakers = sr.AudioFile(\"multiple_speakers.wav\")\n",
        "# Convert AudioFile to AudioData\n",
        "with multiple_speakers as source:\n",
        "    multiple_speakers_audio = recognizer.record(source)\n",
        "# Recognize the AudioData\n",
        "recognizer.recognize_google(multiple_speakers_audio, language = \"fa-FA\")"
      ]
    },
    {
      "cell_type": "code",
      "execution_count": null,
      "metadata": {
        "id": "792Xqdbe0ShH",
        "outputId": "3a8eec4b-26a2-4759-d3fb-fbc79417cc4e"
      },
      "outputs": [],
      "source": [
        "# multiple speakers\n",
        "import speech_recognition as sr\n",
        "\n",
        "recognizer = sr.Recognizer()\n",
        "# Import audio files separately\n",
        "speakers = [sr.AudioFile(\"audio.wav\"), sr.AudioFile(\"audio2.wav\"), sr.AudioFile(\"audio3.wav\")]\n",
        "\n",
        "# Transcribe each speaker individually\n",
        "for i, speaker in enumerate(speakers):\n",
        "    with speaker as source:\n",
        "        speaker_audio = recognizer.record(source)\n",
        "\n",
        "    try:\n",
        "        # Pass the language to the recognize_google function instead\n",
        "        print(f\"Text from speaker {i + 1}: {recognizer.recognize_google(speaker_audio, language=\"fa-FA\")}\")\n",
        "    except sr.UnknownValueError:\n",
        "        print(f\"Speaker {i + 1}'s audio could not be understood.\")\n",
        "    except sr.RequestError as e:\n",
        "        print(f\"Could not request results for speaker {i + 1} from Google Speech Recognition service; {e}\")\n"
      ]
    },
    {
      "cell_type": "markdown",
      "metadata": {
        "id": "-MtBlgb30UxE"
      },
      "source": [
        "**show_all=True**:\n",
        "\n",
        "The show_all parameter controls what the function returns.\n",
        "When show_all=False (the default), the method returns only the most likely transcription result (the best guess of what was said).\n",
        "When show_all=True, the method returns all possible transcriptions with their confidence scores and alternative hypotheses. This can be useful if you want to see other possible interpretations of the audio or verify how confident the API was in its transcription.\n",
        "\n",
        "\n",
        "\n",
        "> Why Use **show_all=True**?\n",
        "\n",
        "\n",
        "**Use Case:** If you want more control over which transcription to use (in case Google misinterprets the speech or you want to review the alternatives), you can set show_all=True to get all the options and choose the one that fits best."
      ]
    },
    {
      "cell_type": "code",
      "execution_count": null,
      "metadata": {
        "id": "rpgI5e960ShI",
        "outputId": "933b8db6-c008-467b-bc0d-fd7b8505361c"
      },
      "outputs": [],
      "source": [
        "#showing all\n",
        "import speech_recognition as sr\n",
        "\n",
        "# Initialize recognizer\n",
        "recognizer = sr.Recognizer()\n",
        "\n",
        "# Load the audio file\n",
        "audio_file = \"audio.wav\"\n",
        "\n",
        "with sr.AudioFile(audio_file) as source:\n",
        "    audio_data = recognizer.record(source)  # Record the audio from the file\n",
        "\n",
        "# Perform speech recognition with show_all=True\n",
        "try:\n",
        "    text = recognizer.recognize_google(audio_data, language=\"fa-FA\", show_all=True)\n",
        "    # Print the text\n",
        "    print(text)\n",
        "except sr.UnknownValueError:\n",
        "    print(\"Google Speech Recognition could not understand the audio\")\n",
        "except sr.RequestError as e:\n",
        "    print(f\"Could not request results from Google Speech Recognition service; {e}\")\n"
      ]
    }
  ],
  "metadata": {
    "colab": {
      "provenance": []
    },
    "kernelspec": {
      "display_name": "Python 3",
      "language": "python",
      "name": "python3"
    },
    "language_info": {
      "codemirror_mode": {
        "name": "ipython",
        "version": 3
      },
      "file_extension": ".py",
      "mimetype": "text/x-python",
      "name": "python",
      "nbconvert_exporter": "python",
      "pygments_lexer": "ipython3",
      "version": "3.12.3"
    }
  },
  "nbformat": 4,
  "nbformat_minor": 0
}
